{
 "cells": [
  {
   "cell_type": "markdown",
   "metadata": {},
   "source": [
    "# Basic Testing\n",
    "\n",
    "Now that we have completed our neural network, first we must check that it can actually learn somnething. We will see if we can get the network to learn an XOR gate\n",
    "\n",
    "The XOR gate has the following truth table:\n",
    "\n",
    "| X1 | X2 | Y |\n",
    "| --- |:---:| ---:|\n",
    "| 0 | 0 | 0 |\n",
    "| 0 | 1 | 1 |\n",
    "| 1 | 0 | 1 |\n",
    "| 1 | 1 | 0 |\n",
    "\n",
    "This translates into training examples as follows:"
   ]
  },
  {
   "cell_type": "code",
   "execution_count": 15,
   "metadata": {},
   "outputs": [],
   "source": [
    "import numpy as np\n",
    "import matplotlib.pyplot as plt\n",
    "from datetime import datetime\n",
    "np.random.seed(1)\n",
    "\n",
    "X = np.array([[0, 0, 1, 1], [0, 1, 0, 1]])\n",
    "Y = np.array([0, 1, 1, 0]).reshape((1, 4))"
   ]
  },
  {
   "cell_type": "markdown",
   "metadata": {},
   "source": [
    "## Reference Network (pyTorch)\n",
    "\n",
    "In order to compare the validity of the results, we implement a network first using pyTorch to check how the results are."
   ]
  },
  {
   "cell_type": "code",
   "execution_count": 26,
   "metadata": {},
   "outputs": [
    {
     "data": {
      "image/png": "[encoded data removed]",
      "text/plain": [
       "<matplotlib.figure.Figure at 0x107e267b8>"
      ]
     },
     "metadata": {},
     "output_type": "display_data"
    },
    {
     "name": "stdout",
     "output_type": "stream",
     "text": [
      "tensor([[ 0.0023],\n",
      "        [ 0.9952],\n",
      "        [ 0.9986],\n",
      "        [ 0.0025]])\n",
      "Time taken: 0:00:04.774848\n"
     ]
    }
   ],
   "source": [
    "import torch\n",
    "from torch import nn\n",
    "from torch import optim\n",
    "from torch import tensor\n",
    "\n",
    "tss = datetime.now()\n",
    "# Create Tensors to hold inputs and outputs\n",
    "# Note that the pyTorch inputs are of size (num_training_examples, input_size) which are the opposite to our network\n",
    "# So, we just translate the results\n",
    "x = tensor(X.T).type(torch.float)\n",
    "y = tensor(Y.T).type(torch.float)\n",
    "\n",
    "# Use the nn package to a basic model and binary cross entropy loss function.\n",
    "model = nn.Sequential(\n",
    "    nn.Linear(2, 3),\n",
    "    nn.Tanh(),\n",
    "    nn.Linear(3, 3),\n",
    "    nn.Tanh(),\n",
    "    nn.Linear(3, 1),\n",
    "    nn.Sigmoid()\n",
    ")\n",
    "loss_fn = nn.BCELoss()\n",
    "\n",
    "# Use the optim package to define an SGD Optimizer that will update the weights of\n",
    "# the model for us.\n",
    "learning_rate = 0.01\n",
    "optimizer = optim.SGD(model.parameters(), lr=learning_rate)\n",
    "costs = []\n",
    "\n",
    "# Train for 25,000 epochs.\n",
    "for t in range(25000):\n",
    "    # Forward pass: compute predicted y by passing x to the model.\n",
    "    y_pred = model(x)\n",
    "\n",
    "    # Compute and print loss.\n",
    "    cost = loss_fn(y_pred, y)\n",
    "    costs.append(cost.item())\n",
    "\n",
    "    # Before the backward pass, use the optimizer object to zero all of the\n",
    "    # gradients for the variables it will update (which are the learnable\n",
    "    # weights of the model). This is because by default, gradients are\n",
    "    # accumulated in buffers( i.e, not overwritten) whenever .backward()\n",
    "    # is called. Checkout docs of torch.autograd.backward for more details.\n",
    "    optimizer.zero_grad()\n",
    "\n",
    "    # Backward pass: compute gradient of the loss with respect to model\n",
    "    # parameters\n",
    "    cost.backward()\n",
    "\n",
    "    # Calling the step function on an Optimizer makes an update to its\n",
    "    # parameters\n",
    "    optimizer.step()\n",
    "\n",
    "# Plot the cost over training.\n",
    "plt.plot(costs)\n",
    "plt.show()\n",
    "\n",
    "# Print the final trained network predictions for our input set\n",
    "print(model(x))\n",
    "\n",
    "print('Time taken: {}'.format(datetime.now() - tss))"
   ]
  },
  {
   "cell_type": "markdown",
   "metadata": {},
   "source": [
    "## Test Network (Potatolemon)\n",
    "\n",
    "Now let's recreate the same network using our potatolemon library and see how it goes!"
   ]
  },
  {
   "cell_type": "code",
   "execution_count": 33,
   "metadata": {},
   "outputs": [
    {
     "data": {
      "image/png": "[encoded data removed]",
      "text/plain": [
       "<matplotlib.figure.Figure at 0x107643ba8>"
      ]
     },
     "metadata": {},
     "output_type": "display_data"
    },
    {
     "name": "stdout",
     "output_type": "stream",
     "text": [
      "[[ 0.00324411]\n",
      " [ 0.99917027]\n",
      " [ 0.99924255]\n",
      " [ 0.02033314]]\n",
      "Time taken: 0:00:06.122180\n"
     ]
    }
   ],
   "source": [
    "import sys\n",
    "sys.path.insert(0, '../')\n",
    "\n",
    "from src import network\n",
    "\n",
    "tss = datetime.now()\n",
    "\n",
    "# Set up our network, specifying input dimensions and hidden layers\n",
    "plnn = network.Network(2, [3, 3], learning_rate=0.01, activation=network.tanh)\n",
    "\n",
    "# Fit our network\n",
    "costs = plnn.fit(X, Y, epochs=25000, verbose=False)\n",
    "\n",
    "# Plot the costs\n",
    "plt.plot(costs)\n",
    "plt.show()\n",
    "\n",
    "# Get the final prediction\n",
    "np.set_printoptions(suppress=True)\n",
    "print(plnn.predict(X).T)\n",
    "\n",
    "print('Time taken: {}'.format(datetime.now() - tss))"
   ]
  },
  {
   "cell_type": "code",
   "execution_count": null,
   "metadata": {
    "collapsed": true
   },
   "outputs": [],
   "source": []
  }
 ],
 "metadata": {
  "kernelspec": {
   "display_name": "Python 3",
   "language": "python",
   "name": "python3"
  },
  "language_info": {
   "codemirror_mode": {
    "name": "ipython",
    "version": 3
   },
   "file_extension": ".py",
   "mimetype": "text/x-python",
   "name": "python",
   "nbconvert_exporter": "python",
   "pygments_lexer": "ipython3",
   "version": "3.6.2"
  }
 },
 "nbformat": 4,
 "nbformat_minor": 2
}
