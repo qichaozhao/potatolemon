{
 "cells": [
  {
   "cell_type": "markdown",
   "metadata": {},
   "source": [
    "# Multiclass Classification\n",
    "\n",
    "## Prepare the Dataset"
   ]
  },
  {
   "cell_type": "code",
   "execution_count": 1,
   "metadata": {
    "collapsed": true
   },
   "outputs": [],
   "source": [
    "import sklearn.datasets\n",
    "\n",
    "from sklearn.metrics import classification_report, confusion_matrix\n",
    "from sklearn.preprocessing import StandardScaler\n",
    "\n",
    "from datetime import datetime\n",
    "import matplotlib.pyplot as plt\n",
    "import seaborn as sns\n",
    "import numpy as np\n",
    "\n",
    "np.random.seed(1)\n",
    "\n",
    "iris = sklearn.datasets.load_iris()\n",
    "\n",
    "# Scale our features\n",
    "iris.data = StandardScaler().fit_transform(iris.data)\n",
    "\n",
    "# Generate random indices to sample for our testing array\n",
    "test_idx = np.random.randint(low=0, high=140, size=20)\n",
    "train_idx = [x for x in range(150) if x not in test_idx]\n",
    "\n",
    "X_train = iris.data[train_idx, :]\n",
    "Y_train = iris.target[train_idx]\n",
    "\n",
    "X_test = iris.data[test_idx, :]\n",
    "Y_test = iris.target[test_idx]"
   ]
  },
  {
   "cell_type": "markdown",
   "metadata": {},
   "source": [
    "## Reference Network (pyTorch)"
   ]
  },
  {
   "cell_type": "code",
   "execution_count": 2,
   "metadata": {},
   "outputs": [
    {
     "data": {
      "image/png": "[encoded data removed]",
      "text/plain": [
       "<matplotlib.figure.Figure at 0x10dfa6e10>"
      ]
     },
     "metadata": {},
     "output_type": "display_data"
    },
    {
     "name": "stdout",
     "output_type": "stream",
     "text": [
      "Time taken: 0:00:06.977925\n"
     ]
    }
   ],
   "source": [
    "import torch\n",
    "from torch import nn\n",
    "from torch import optim\n",
    "from torch import tensor\n",
    "\n",
    "torch.manual_seed(1)\n",
    "\n",
    "tss = datetime.now()\n",
    "\n",
    "# Create Tensors to hold inputs and outputs\n",
    "x = tensor(X_train).type(torch.float)\n",
    "y = tensor(Y_train).type(torch.long)\n",
    "\n",
    "# Use the nn package to a basic model and multiclass cross entropy loss function.\n",
    "model = nn.Sequential(\n",
    "    nn.Linear(4, 10),\n",
    "    nn.Tanh(),\n",
    "    nn.Linear(10, 10),\n",
    "    nn.Tanh(),\n",
    "    nn.Linear(10, 3),\n",
    "    nn.Sigmoid()\n",
    ")\n",
    "\n",
    "loss_fn = nn.CrossEntropyLoss()\n",
    "\n",
    "# Use the optim package to define an SGD Optimizer that will update the weights of\n",
    "# the model for us.\n",
    "learning_rate = 0.01\n",
    "optimizer = optim.SGD(model.parameters(), lr=learning_rate)\n",
    "costs = []\n",
    "\n",
    "# Initialise the model parameters as a uniform normal distribution\n",
    "for layer in model:\n",
    "    if layer.type == nn.Linear:\n",
    "        layer.weight = nn.init.normal_(layer.weight)\n",
    "\n",
    "# Train for 25,000 epochs.\n",
    "for t in range(25000):\n",
    "    # Forward pass: compute predicted y by passing x to the model.\n",
    "    y_pred = model(x)\n",
    "\n",
    "    # Compute and print loss.\n",
    "    cost = loss_fn(y_pred, y)\n",
    "    costs.append(cost.item())\n",
    "\n",
    "    # Before the backward pass, use the optimizer object to zero all of the\n",
    "    # gradients for the variables it will update (which are the learnable\n",
    "    # weights of the model). This is because by default, gradients are\n",
    "    # accumulated in buffers( i.e, not overwritten) whenever .backward()\n",
    "    # is called. Checkout docs of torch.autograd.backward for more details.\n",
    "    optimizer.zero_grad()\n",
    "\n",
    "    # Backward pass: compute gradient of the loss with respect to model\n",
    "    # parameters\n",
    "    cost.backward()\n",
    "\n",
    "    # Calling the step function on an Optimizer makes an update to its\n",
    "    # parameters\n",
    "    optimizer.step()\n",
    "\n",
    "# Plot the cost over training.\n",
    "plt.plot(costs)\n",
    "plt.show()\n",
    "\n",
    "print('Time taken: {}'.format(datetime.now() - tss))"
   ]
  },
  {
   "cell_type": "code",
   "execution_count": 3,
   "metadata": {},
   "outputs": [
    {
     "name": "stdout",
     "output_type": "stream",
     "text": [
      "             precision    recall  f1-score   support\n",
      "\n",
      "          0       1.00      1.00      1.00         4\n",
      "          1       0.64      1.00      0.78         9\n",
      "          2       1.00      0.29      0.44         7\n",
      "\n",
      "avg / total       0.84      0.75      0.71        20\n",
      "\n"
     ]
    },
    {
     "data": {
      "image/png": "[encoded data removed]",
      "text/plain": [
       "<matplotlib.figure.Figure at 0x1067edac8>"
      ]
     },
     "metadata": {},
     "output_type": "display_data"
    }
   ],
   "source": [
    "# Test the results\n",
    "_, y_pred = torch.max(nn.Softmax(dim=1)(model(tensor(X_test).type(torch.float))), 1)\n",
    "\n",
    "print(classification_report(Y_test, y_pred))\n",
    "sns.heatmap(confusion_matrix(Y_test, y_pred))\n",
    "plt.show()"
   ]
  },
  {
   "cell_type": "markdown",
   "metadata": {},
   "source": [
    "## Potatolemon"
   ]
  },
  {
   "cell_type": "code",
   "execution_count": 4,
   "metadata": {},
   "outputs": [
    {
     "data": {
      "image/png": "[encoded data removed]",
      "text/plain": [
       "<matplotlib.figure.Figure at 0x10e7c8278>"
      ]
     },
     "metadata": {},
     "output_type": "display_data"
    },
    {
     "name": "stdout",
     "output_type": "stream",
     "text": [
      "Time taken: 0:00:26.456118\n"
     ]
    }
   ],
   "source": [
    "import sys\n",
    "sys.path.insert(0, '../')\n",
    "\n",
    "from src import network\n",
    "\n",
    "tss = datetime.now()\n",
    "\n",
    "# Set up our network, specifying input dimensions and hidden layers\n",
    "plnn = network.Network(4, [10, 10], num_classes=3, learning_rate=0.01,\n",
    "                       activation=network.tanh,\n",
    "                       loss=network.categorical_crossentropy)\n",
    "\n",
    "# Initialise layer weights using a random uniform scheme\n",
    "for layer in plnn.layers:\n",
    "    layer.set_weights(np.random.standard_normal(layer.get_weights().shape))\n",
    "\n",
    "# One-hot encode the Y-values\n",
    "from sklearn.preprocessing import OneHotEncoder\n",
    "ohe = OneHotEncoder(sparse=False)\n",
    "Y_train_oh = ohe.fit_transform(Y_train.reshape(-1, 1))\n",
    "\n",
    "# Fit our network\n",
    "costs = plnn.fit(X_train.T, Y_train_oh.T, epochs=25000, verbose=False)\n",
    "\n",
    "# Plot the costs\n",
    "plt.plot(costs)\n",
    "plt.show()\n",
    "\n",
    "print('Time taken: {}'.format(datetime.now() - tss))"
   ]
  },
  {
   "cell_type": "code",
   "execution_count": 5,
   "metadata": {},
   "outputs": [
    {
     "name": "stdout",
     "output_type": "stream",
     "text": [
      "             precision    recall  f1-score   support\n",
      "\n",
      "          0       1.00      1.00      1.00         4\n",
      "          1       0.73      0.89      0.80         9\n",
      "          2       0.80      0.57      0.67         7\n",
      "\n",
      "avg / total       0.81      0.80      0.79        20\n",
      "\n"
     ]
    },
    {
     "data": {
      "image/png": "[encoded data removed]",
      "text/plain": [
       "<matplotlib.figure.Figure at 0x10e5da198>"
      ]
     },
     "metadata": {},
     "output_type": "display_data"
    }
   ],
   "source": [
    "# Test the results\n",
    "y_pred = plnn.predict(X_test.T)\n",
    "\n",
    "print(classification_report(Y_test, y_pred))\n",
    "sns.heatmap(confusion_matrix(Y_test, y_pred))\n",
    "plt.show()"
   ]
  },
  {
   "cell_type": "code",
   "execution_count": null,
   "metadata": {
    "collapsed": true
   },
   "outputs": [],
   "source": []
  }
 ],
 "metadata": {
  "kernelspec": {
   "display_name": "Python 3",
   "language": "python",
   "name": "python3"
  },
  "language_info": {
   "codemirror_mode": {
    "name": "ipython",
    "version": 3
   },
   "file_extension": ".py",
   "mimetype": "text/x-python",
   "name": "python",
   "nbconvert_exporter": "python",
   "pygments_lexer": "ipython3",
   "version": "3.6.2"
  }
 },
 "nbformat": 4,
 "nbformat_minor": 2
}
